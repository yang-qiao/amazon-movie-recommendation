{
 "cells": [
  {
   "cell_type": "code",
   "execution_count": 3,
   "metadata": {},
   "outputs": [],
   "source": [
    "import lsh"
   ]
  },
  {
   "cell_type": "code",
   "execution_count": 161,
   "metadata": {
    "collapsed": true
   },
   "outputs": [],
   "source": [
    "import pandas as pd\n",
    "import numpy as np\n",
    "import sys\n",
    "import os\n",
    "import pickle as pkl\n",
    "import time\n",
    "import warnings\n",
    "\n",
    "from collections import defaultdict\n",
    "from IPython.display import clear_output\n",
    "\n",
    "from scipy.sparse import csr_matrix, csc_matrix, hstack, vstack\n",
    "\n",
    "warnings.filterwarnings('ignore')"
   ]
  },
  {
   "cell_type": "code",
   "execution_count": 2,
   "metadata": {
    "collapsed": true
   },
   "outputs": [],
   "source": [
    "data_path_1 = os.path.join('..','data')\n",
    "data_path_2 = os.path.join('..','data-2')\n",
    "\n",
    "df = pd.read_csv(os.path.join(data_path_1, 'reviews_sample_100.csv')).drop(['Unnamed: 0', 'reviewTime'], axis = 1)\n",
    "df.columns = ['item', 'user', 'rating']"
   ]
  },
  {
   "cell_type": "code",
   "execution_count": 194,
   "metadata": {
    "collapsed": true
   },
   "outputs": [],
   "source": [
    "class LSH():\n",
    "    def __init__(self, p = 5, q = 4, user = 'user', item = 'item', rating = 'rating', seed = 1):\n",
    "        self.user = user\n",
    "        self.item = item\n",
    "        self.rating = rating\n",
    "        self.p = p\n",
    "        self.q = q\n",
    "        \n",
    "        self.data_matrix = None\n",
    "        self.item_list = None\n",
    "        self.hyperplanes = None\n",
    "        self.n_users = None\n",
    "        self.n_items = None\n",
    "        self.dicts_list = list()\n",
    "        self.avg_rating = None\n",
    "        \n",
    "        np.random.seed(seed)\n",
    "    \n",
    "    def char_series_to_string(self, series):\n",
    "        string = ''\n",
    "        for char in series:\n",
    "            string += char\n",
    "        return string\n",
    "    \n",
    "    def fit(self, data):\n",
    "        # convert data into vector form\n",
    "        df = data.pivot_table(index=self.user, columns=self.item)\n",
    "        self.data_matrix = df.fillna(0)\n",
    "        self.data_matrix.columns = self.data_matrix.columns.droplevel()\n",
    "        self.item_list = df.columns.levels[-1]\n",
    "        self.n_users, self.n_items = self.data_matrix.shape\n",
    "        \n",
    "        # create set of random hyperplanes\n",
    "        hyperplanes = np.random.randn(self.p * self.q, self.n_users)\n",
    "        hyperplanes_pos = (hyperplanes >= 0).astype(int)\n",
    "        hyperplanes_neg = (hyperplanes < 0) * -1\n",
    "        self.hyperplanes = hyperplanes_pos + hyperplanes_neg\n",
    "        assert((self.hyperplanes >= 0).sum() + (self.hyperplanes < 0).sum() == self.hyperplanes.size)\n",
    "        \n",
    "        # build signatures and bands\n",
    "        signature_matrix = np.dot(self.hyperplanes, self.data_matrix)\n",
    "        signature_matrix = (signature_matrix >= 0).astype(int)\n",
    "        self.signature_matrix = pd.DataFrame(signature_matrix, columns = self.item_list)\n",
    "        \n",
    "        # for each band, store neighbors in same bucket\n",
    "        for i in range(self.q):\n",
    "            band_start = i * self.p\n",
    "            band_end = band_start + self.p\n",
    "            signature_df = self.signature_matrix.iloc[band_start:band_end, :].T.astype(str)\n",
    "            signature_df = pd.DataFrame(signature_df.apply(self.char_series_to_string, axis = 1))\n",
    "            signature_dict = signature_df.groupby(0)\n",
    "            self.dicts_list.append(signature_dict)\n",
    "            \n",
    "        # calculate average rating\n",
    "        self.avg_rating = data[self.rating].mean()\n",
    "            \n",
    "    def get_neighbors(self, item):\n",
    "        \n",
    "        # generate signature string\n",
    "        item_vector = self.data_matrix.loc[:,item]\n",
    "        signatures = np.dot(self.hyperplanes, item_vector)\n",
    "        signatures = (signatures >= 0).astype(int).astype(str)\n",
    "        signatures = ''.join(list(signatures))\n",
    "        \n",
    "        # collect neighbors from each band\n",
    "        neighbors = set()\n",
    "        for i in range(self.q):\n",
    "            band_start = i * self.p\n",
    "            band_end = band_start + self.p\n",
    "            signature = signatures[band_start:band_end]\n",
    "            band_neighbors = self.dicts_list[i].get_group(signature).index\n",
    "            neighbors = neighbors.union(list(band_neighbors))\n",
    "            \n",
    "        neighbors = neighbors - set([item])     \n",
    "        return neighbors\n",
    "    \n",
    "    def get_relevant_items(self, user, item):\n",
    "        user_vector = self.data_matrix.loc[user, :]\n",
    "        user_vector = user_vector[user_vector > 0]\n",
    "        user_items = set(user_vector.index) - set([item])\n",
    "        item_neighbors = self.get_neighbors(item)\n",
    "        relevant_items = user_items.intersection(item_neighbors)\n",
    "        \n",
    "        if len(relevant_items) <= 5:\n",
    "            relevant_items = user_items\n",
    "        \n",
    "        return relevant_items\n",
    "    \n",
    "    def cosine_similarities(self, target_item, relevant_items):\n",
    "        target_item_vector = self.data_matrix.loc[:, target_item].values\n",
    "        relevant_items_matrix = self.data_matrix.loc[:, relevant_items].values\n",
    "        dot_products = np.dot(target_item_vector, relevant_items_matrix)\n",
    "        norm_products = np.linalg.norm(relevant_items_matrix, axis = 0) * np.linalg.norm(target_item_vector)\n",
    "        similarities = dot_products / norm_products\n",
    "        return similarities\n",
    "    \n",
    "    def predict_rating(self, user, item):\n",
    "        relevant_items = list(self.get_relevant_items(user, item))\n",
    "        user_ratings = self.data_matrix.loc[user,:][relevant_items]\n",
    "        item_similarities = self.cosine_similarities(item, relevant_items)\n",
    "        if len(item_similarities) == 0 or item_similarities.sum() == 0:\n",
    "            prediction = self.avg_rating\n",
    "        else:\n",
    "            prediction = np.dot(item_similarities, user_ratings) / item_similarities.sum()\n",
    "\n",
    "        return prediction\n",
    "        \n",
    "    def predict(self, data):\n",
    "        df = data[[self.user, self.item]]\n",
    "        \n",
    "        preds_list = list()\n",
    "        print('=' * 100)\n",
    "        for i in range(len(df)):\n",
    "            if i % (len(df) / 100) == 0:\n",
    "                print('-', end='')\n",
    "            user = df.iloc[i,0]\n",
    "            item = df.iloc[i,1]\n",
    "            preds_list.append(self.predict_rating(user, item))\n",
    "            #print(preds_list[-1])\n",
    "            \n",
    "        return np.array(preds_list)"
   ]
  },
  {
   "cell_type": "code",
   "execution_count": 195,
   "metadata": {
    "collapsed": true
   },
   "outputs": [],
   "source": [
    "df = df.sample(len(df))\n",
    "boundary = int(len(df) * 0.9)\n",
    "df_train = df.iloc[:boundary,:]\n",
    "df_test = df.iloc[boundary:,:]"
   ]
  },
  {
   "cell_type": "code",
   "execution_count": 196,
   "metadata": {
    "collapsed": true
   },
   "outputs": [],
   "source": [
    "lsh = LSH(p=8, q=6)\n",
    "sm = lsh.fit(df_train)"
   ]
  },
  {
   "cell_type": "code",
   "execution_count": 199,
   "metadata": {},
   "outputs": [
    {
     "data": {
      "text/plain": [
       "44188"
      ]
     },
     "execution_count": 199,
     "metadata": {},
     "output_type": "execute_result"
    }
   ],
   "source": [
    "len(df_test)"
   ]
  },
  {
   "cell_type": "code",
   "execution_count": 209,
   "metadata": {
    "scrolled": true
   },
   "outputs": [
    {
     "name": "stdout",
     "output_type": "stream",
     "text": [
      "====================================================================================================\n",
      "-"
     ]
    }
   ],
   "source": [
    "y_preds = lsh.predict(df_test)\n",
    "y = df_test['rating'].values"
   ]
  },
  {
   "cell_type": "code",
   "execution_count": 210,
   "metadata": {},
   "outputs": [
    {
     "data": {
      "text/plain": [
       "0.92107762459255038"
      ]
     },
     "execution_count": 210,
     "metadata": {},
     "output_type": "execute_result"
    }
   ],
   "source": [
    "np.abs(y - y.mean()).sum() / len(y)"
   ]
  },
  {
   "cell_type": "code",
   "execution_count": 211,
   "metadata": {},
   "outputs": [
    {
     "data": {
      "text/plain": [
       "0.78673490715806194"
      ]
     },
     "execution_count": 211,
     "metadata": {},
     "output_type": "execute_result"
    }
   ],
   "source": [
    "np.abs(y - y_preds).sum() / len(y)"
   ]
  },
  {
   "cell_type": "code",
   "execution_count": null,
   "metadata": {
    "collapsed": true
   },
   "outputs": [],
   "source": []
  }
 ],
 "metadata": {
  "kernelspec": {
   "display_name": "Python 3",
   "language": "python",
   "name": "python3"
  },
  "language_info": {
   "codemirror_mode": {
    "name": "ipython",
    "version": 3
   },
   "file_extension": ".py",
   "mimetype": "text/x-python",
   "name": "python",
   "nbconvert_exporter": "python",
   "pygments_lexer": "ipython3",
   "version": "3.6.1"
  }
 },
 "nbformat": 4,
 "nbformat_minor": 2
}
