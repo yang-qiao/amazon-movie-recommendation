{
 "cells": [
  {
   "cell_type": "code",
   "execution_count": 1,
   "metadata": {
    "collapsed": true
   },
   "outputs": [],
   "source": [
    "import numpy as np\n",
    "import pandas as pd\n",
    "import time\n",
    "from collections import defaultdict\n",
    "import seaborn as sns\n",
    "import warnings\n",
    "from IPython.display import clear_output\n",
    "\n",
    "warnings.filterwarnings('ignore')\n",
    "\n",
    "np.random.seed(1)\n",
    "\n",
    "% matplotlib inline"
   ]
  },
  {
   "cell_type": "code",
   "execution_count": 2,
   "metadata": {},
   "outputs": [
    {
     "data": {
      "text/html": [
       "<div>\n",
       "<style>\n",
       "    .dataframe thead tr:only-child th {\n",
       "        text-align: right;\n",
       "    }\n",
       "\n",
       "    .dataframe thead th {\n",
       "        text-align: left;\n",
       "    }\n",
       "\n",
       "    .dataframe tbody tr th {\n",
       "        vertical-align: top;\n",
       "    }\n",
       "</style>\n",
       "<table border=\"1\" class=\"dataframe\">\n",
       "  <thead>\n",
       "    <tr style=\"text-align: right;\">\n",
       "      <th></th>\n",
       "      <th>user</th>\n",
       "      <th>item</th>\n",
       "      <th>rating</th>\n",
       "    </tr>\n",
       "  </thead>\n",
       "  <tbody>\n",
       "    <tr>\n",
       "      <th>0</th>\n",
       "      <td>A1JH5J1KQAUBMP</td>\n",
       "      <td>B00005U0JX</td>\n",
       "      <td>True</td>\n",
       "    </tr>\n",
       "    <tr>\n",
       "      <th>1</th>\n",
       "      <td>A1RSXP7MB772E3</td>\n",
       "      <td>B001DHXT1G</td>\n",
       "      <td>True</td>\n",
       "    </tr>\n",
       "    <tr>\n",
       "      <th>2</th>\n",
       "      <td>AJGP5XYKKBGBG</td>\n",
       "      <td>0792840054</td>\n",
       "      <td>True</td>\n",
       "    </tr>\n",
       "    <tr>\n",
       "      <th>3</th>\n",
       "      <td>A2SQJPUCZNHMZE</td>\n",
       "      <td>B005LAIHSG</td>\n",
       "      <td>True</td>\n",
       "    </tr>\n",
       "    <tr>\n",
       "      <th>4</th>\n",
       "      <td>A3QVAKVRAH657N</td>\n",
       "      <td>B00005K3OU</td>\n",
       "      <td>False</td>\n",
       "    </tr>\n",
       "  </tbody>\n",
       "</table>\n",
       "</div>"
      ],
      "text/plain": [
       "             user        item  rating\n",
       "0  A1JH5J1KQAUBMP  B00005U0JX    True\n",
       "1  A1RSXP7MB772E3  B001DHXT1G    True\n",
       "2   AJGP5XYKKBGBG  0792840054    True\n",
       "3  A2SQJPUCZNHMZE  B005LAIHSG    True\n",
       "4  A3QVAKVRAH657N  B00005K3OU   False"
      ]
     },
     "execution_count": 2,
     "metadata": {},
     "output_type": "execute_result"
    }
   ],
   "source": [
    "ratings = pd.read_csv('../data/reviews_sample_100.csv').drop(['Unnamed: 0', 'reviewTime'], axis = 1)\n",
    "ratings.columns = ['item', 'user', 'rating']\n",
    "ratings = ratings[['user', 'item', 'rating']]\n",
    "ratings['rating'] = ratings['rating'].astype(int)\n",
    "ratings['rating'] = (ratings['rating'] >= 4).astype(bool)\n",
    "ratings.head()"
   ]
  },
  {
   "cell_type": "code",
   "execution_count": 37,
   "metadata": {},
   "outputs": [],
   "source": [
    "class PLSI():\n",
    "    \n",
    "    def __init__(self, n_factors = 5, n_iters = 5,\n",
    "                 verbose = False, user = 'user', item = 'item', rating = 'rating'):\n",
    "        self.n_items = 0\n",
    "        self.n_users = 0\n",
    "        self.n_latent_factors = n_factors\n",
    "        self.n_iters = n_iters\n",
    "        \n",
    "        self.verbose = verbose\n",
    "        \n",
    "        self.user = user\n",
    "        self.item = item\n",
    "        self.rating = rating\n",
    "        \n",
    "    def _make_bool_matrix(self):\n",
    "        self.data.loc[:,self.rating] = self.data[self.rating].astype(bool)\n",
    "        data_matrix = self.data.pivot_table(index=self.user, columns=self.item).fillna(False)\n",
    "        return data_matrix\n",
    "        \n",
    "    def _train_initialize(self, data):\n",
    "        \n",
    "        self.data = data[data[self.rating] > 0]\n",
    "        self.data_zero = data.copy()\n",
    "        self.data_matrix = self._make_bool_matrix()\n",
    "        print('num users:', self.data_matrix.shape[0])\n",
    "        print('num items:', self.data_matrix.shape[1])\n",
    "        \n",
    "        print('proportion positive:', len(self.data) / len(self.data_zero))\n",
    "\n",
    "        self.user_array = np.array(self.data_matrix.index)\n",
    "        self.item_array = np.array(self.data_matrix.columns.levels[-1])\n",
    "        \n",
    "        self.n_users = len(self.user_array)\n",
    "        self.n_items = len(self.item_array)\n",
    "        self.n_impl_ratings = self.data[self.rating].sum()\n",
    "        \n",
    "        self.items_dict = defaultdict(list)\n",
    "        for index, value in enumerate(self.item_array):\n",
    "            self.items_dict[value] = index\n",
    "            \n",
    "        self.users_dict = defaultdict(list)\n",
    "        for index, value in enumerate(self.user_array):\n",
    "            self.users_dict[value] = index\n",
    "            \n",
    "        print('')\n",
    "            \n",
    "    def _param_initialize(self):\n",
    "        self.prob_z_given_user = np.random.rand(self.n_users, self.n_latent_factors)\n",
    "        self.prob_item_given_z = np.random.rand(self.n_latent_factors, self.n_items)\n",
    "        self.prob_z_given_user_item = np.random.rand(self.n_latent_factors)\n",
    "        \n",
    "        user_group = self.data.groupby(self.user)\n",
    "        self.count_user = user_group[self.rating].sum()\n",
    "        self.prob_user = self.count_user / self.n_impl_ratings\n",
    "        \n",
    "        item_group = self.data.groupby(self.item)\n",
    "        self.count_item = item_group[self.rating].sum()\n",
    "    \n",
    "    def _update_params(self):\n",
    "        \n",
    "        self.prob_item_given_user = np.dot(self.prob_z_given_user, self.prob_item_given_z)\n",
    "        \n",
    "        for z in range(self.n_latent_factors):\n",
    "            #print('\\n===========Z={}==========='.format(z))\n",
    "            \n",
    "            #print('\\n=======E-step=======')\n",
    "            \n",
    "            prob_z_given_user_item = np.dot(self.prob_z_given_user[:,z].reshape(1, -1).T,\\\n",
    "                                            self.prob_item_given_z[z,:].reshape(1, -1)) / \\\n",
    "                                            self.prob_item_given_user\n",
    "            \n",
    "            data_matrix_z = self.data_matrix * prob_z_given_user_item\n",
    "            \n",
    "            #print('\\n=======LOOP 1=======')\n",
    "            prob_z_given_user_num_array = data_matrix_z.sum(axis = 1)\n",
    "            prob_z_given_user_den_array = self.data_matrix.sum(axis = 1)\n",
    "            \n",
    "            prob_z_given_user_array = prob_z_given_user_num_array.values / prob_z_given_user_den_array\n",
    "            self.prob_z_given_user[:,z] = prob_z_given_user_array\n",
    "            \n",
    "            #print('\\n=======LOOP 2=======')\n",
    "            prob_item_given_z_den = data_matrix_z.sum().sum()\n",
    "            prob_item_given_z_num_array = data_matrix_z.sum(axis = 0)\n",
    "            prob_item_given_z_array = prob_item_given_z_num_array / prob_item_given_z_den\n",
    "            self.prob_item_given_z[z, :] = prob_item_given_z_array\n",
    "            #clear_output()\n",
    "\n",
    "    def _calc_log_likelihood(self):\n",
    "\n",
    "        summand_1 = (self.data_matrix * np.log(self.prob_item_given_user)).sum().sum()\n",
    "        prob_user_array = (self.data_matrix.sum(axis = 1) / self.data_matrix.sum().sum()).values\n",
    "        count_user_array = self.data_matrix.sum(axis = 1)\n",
    "        \n",
    "        summand_2 = (count_user_array * np.log(prob_user_array)).sum()\n",
    "        log_likelihood = summand_1 + summand_2\n",
    "        \n",
    "        return log_likelihood\n",
    "    \n",
    "    def _calc_joint_matrix(self):\n",
    "        \n",
    "        total_instances = self.data_matrix.sum().sum()\n",
    "        \n",
    "        prob_user_array = (self.data_matrix.sum(axis = 1) / self.data_matrix.sum().sum()).values.reshape(1, -1).T\n",
    "        self.prob_joint_user_item = self.prob_item_given_user * prob_user_array * total_instances\n",
    "        return self.prob_joint_user_item\n",
    "        \n",
    "    def fit(self, data):\n",
    "        self._train_initialize(data)\n",
    "        self._param_initialize()\n",
    "        \n",
    "        for i in range(self.n_iters):\n",
    "            self._update_params()\n",
    "        \n",
    "            if self.verbose:\n",
    "                print('\\n==================ITER {}=================='.format(i+1))\n",
    "                \n",
    "                log_l = self._calc_log_likelihood()\n",
    "                print('log-likelihood:', log_l)\n",
    "        self._calc_joint_matrix()\n",
    "    \n",
    "    def predict_proba(self, data):\n",
    "        pred_list = list()\n",
    "        for row_index in range(len(data)):\n",
    "            row = data.iloc[row_index, :]\n",
    "            user = row[self.user]\n",
    "            item = row[self.item]\n",
    "            #rating = row[self.rating]\n",
    "            \n",
    "            item_index = self.items_dict[item]\n",
    "            user_index = self.users_dict[user]\n",
    "            \n",
    "            if isinstance(item_index, list) or isinstance(user_index, list):\n",
    "                rating_pred = 0\n",
    "            else:\n",
    "                rating_pred = self.prob_item_given_user[user_index][item_index]\n",
    "            pred_list.append(rating_pred)\n",
    "            \n",
    "        pred_array = np.array(pred_list)\n",
    "        \n",
    "        return pred_array\n",
    "    \n",
    "    def recommend_top_k(self, user, k = 10):\n",
    "        user_index = self.users_dict[user]\n",
    "        item_list = self.data_matrix.columns.levels[-1]\n",
    "        probas = self.prob_item_given_user[user_index,:]\n",
    "        indices = np.argsort(probas)[::-1]\n",
    "        return item_list[indices], probas[indices]\n",
    "    \n",
    "    def calc_precision(self, data, k = 10):\n",
    "        user_array = data[self.user].unique()\n",
    "        \n",
    "        precision_list = list()\n",
    "        i = 0\n",
    "        for user in user_array:\n",
    "            print(i, user)\n",
    "            i += 1\n",
    "            recommendations, probas = self.recommend_top_k(user, k)\n",
    "            \n",
    "            precision_list_user = list()\n",
    "            for recommendation in recommendations:\n",
    "                query = data[(data[self.user] == user) & (data[self.item] == recommendation)]\n",
    "                if len(query) > 0:\n",
    "                    precision_list_user.append(query[self.rating].values[0])\n",
    "                if len(precision_list_user) >= k:\n",
    "                    break\n",
    "            if len(precision_list_user):\n",
    "                precision_list.append(sum(precision_list_user) / len(precision_list_user))\n",
    "                print(sum(precision_list_user), len(precision_list_user))\n",
    "        if len(precision_list):\n",
    "            return sum(precision_list) / len(precision_list)\n",
    "        else:\n",
    "            return None"
   ]
  },
  {
   "cell_type": "code",
   "execution_count": 78,
   "metadata": {},
   "outputs": [
    {
     "name": "stdout",
     "output_type": "stream",
     "text": [
      "num users: 4\n",
      "num items: 4\n",
      "proportion positive: 0.5\n",
      "\n",
      "0.0\n"
     ]
    }
   ],
   "source": [
    "df_4_orig = pd.DataFrame([[1,1,0,0],\n",
    "                    [1,1,0,0],\n",
    "                    [0,0,1,1],\n",
    "                    [0,0,1,1]], columns = list('abcd'), index=list('qrst'))\n",
    "df_4 = df_4_orig.reset_index()\n",
    "df_4 = df_4.melt(value_vars=list('abcd'), id_vars = 'index')\n",
    "df_4.columns = ['user', 'item', 'rating']\n",
    "\n",
    "plsi = PLSI(n_factors = 2, n_iters = 20)\n",
    "plsi.fit(df_4)\n",
    "pred = plsi.prob_joint_user_item\n",
    "print((pred - df_4_orig).values.mean())"
   ]
  },
  {
   "cell_type": "code",
   "execution_count": 80,
   "metadata": {},
   "outputs": [
    {
     "name": "stdout",
     "output_type": "stream",
     "text": [
      "num users: 6\n",
      "num items: 6\n",
      "proportion positive: 0.5277777777777778\n",
      "\n",
      "-6.7846962616e-17\n"
     ]
    }
   ],
   "source": [
    "np.random.seed(2)\n",
    "\n",
    "df_6_orig = pd.DataFrame([[1,1,1,0,0,0],\n",
    "                    [1,1,1,0,0,0],\n",
    "                    [1,1,0,0,1,0],\n",
    "                    [0,1,0,1,1,1],\n",
    "                    [0,1,0,1,0,1],\n",
    "                    [0,0,0,1,1,1]],\n",
    "                    columns = list('abcdef'), index = list('qrstuv'))\n",
    "df_6 = df_6_orig.reset_index()\n",
    "df_6 = df_6.melt(value_vars=list('abcdef'), id_vars = 'index')\n",
    "df_6.columns = ['user', 'item', 'rating']\n",
    "\n",
    "plsi = PLSI(n_factors = 2, n_iters = 20)\n",
    "plsi.fit(df_6)\n",
    "pred = plsi.prob_joint_user_item\n",
    "print((pred - df_6_orig).values.mean())"
   ]
  },
  {
   "cell_type": "code",
   "execution_count": null,
   "metadata": {
    "collapsed": true
   },
   "outputs": [],
   "source": [
    "ratings_train = ratings[:10000]\n",
    "\n",
    "plsi = PLSI(n_factors = 20, n_iters = 10, verbose = True)\n",
    "plsi.fit(ratings_train)"
   ]
  },
  {
   "cell_type": "code",
   "execution_count": 7,
   "metadata": {},
   "outputs": [],
   "source": [
    "y_pred = plsi.predict_proba(ratings_train)\n",
    "y_train = ratings_train['rating']"
   ]
  },
  {
   "cell_type": "code",
   "execution_count": 12,
   "metadata": {},
   "outputs": [
    {
     "data": {
      "text/plain": [
       "0.71619999999999995"
      ]
     },
     "execution_count": 12,
     "metadata": {},
     "output_type": "execute_result"
    }
   ],
   "source": [
    "y_train.mean()"
   ]
  },
  {
   "cell_type": "code",
   "execution_count": 8,
   "metadata": {},
   "outputs": [
    {
     "data": {
      "text/plain": [
       "0.7127523675420432"
      ]
     },
     "execution_count": 8,
     "metadata": {},
     "output_type": "execute_result"
    }
   ],
   "source": [
    "np.abs(y_pred - y_train).mean()"
   ]
  },
  {
   "cell_type": "code",
   "execution_count": null,
   "metadata": {
    "collapsed": true
   },
   "outputs": [],
   "source": []
  }
 ],
 "metadata": {
  "kernelspec": {
   "display_name": "Python 3",
   "language": "python",
   "name": "python3"
  },
  "language_info": {
   "codemirror_mode": {
    "name": "ipython",
    "version": 3
   },
   "file_extension": ".py",
   "mimetype": "text/x-python",
   "name": "python",
   "nbconvert_exporter": "python",
   "pygments_lexer": "ipython3",
   "version": "3.6.1"
  }
 },
 "nbformat": 4,
 "nbformat_minor": 2
}
