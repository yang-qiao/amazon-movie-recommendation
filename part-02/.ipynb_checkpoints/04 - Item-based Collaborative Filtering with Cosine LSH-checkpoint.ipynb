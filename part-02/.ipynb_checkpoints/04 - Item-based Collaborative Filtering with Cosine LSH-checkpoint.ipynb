{
 "cells": [
  {
   "cell_type": "code",
   "execution_count": 62,
   "metadata": {},
   "outputs": [],
   "source": [
    "import pandas as pd\n",
    "import numpy as np\n",
    "import sys\n",
    "import os\n",
    "import pickle as pkl\n",
    "import time\n",
    "import warnings\n",
    "import matplotlib.pyplot as plt\n",
    "import seaborn as sns\n",
    "\n",
    "from lsh import CosineLSH\n",
    "from hyperopt import tpe, fmin, hp, Trials, STATUS_OK\n",
    "from collections import defaultdict\n",
    "from IPython.display import clear_output\n",
    "from scipy.sparse import csr_matrix, csc_matrix, hstack, vstack\n",
    "from sklearn.metrics import roc_auc_score\n",
    "\n",
    "sns.set(style='whitegrid')\n",
    "% matplotlib inline\n",
    "\n",
    "warnings.filterwarnings('ignore')"
   ]
  },
  {
   "cell_type": "code",
   "execution_count": 11,
   "metadata": {
    "collapsed": true
   },
   "outputs": [],
   "source": [
    "# import data\n",
    "data_path = os.path.join('..', 'data-2')\n",
    "splits_path = os.path.join(data_path,'splits')\n",
    "columns = ['user','item','rating']\n",
    "\n",
    "with open(os.path.join(splits_path, 'train.df'), 'rb') as file_in:\n",
    "    train_df = pkl.load(file_in)[columns]\n",
    "    \n",
    "with open(os.path.join(splits_path, 'dev.df'), 'rb') as file_in:\n",
    "    cv_df = pkl.load(file_in)[columns]\n",
    "\n",
    "with open(os.path.join(splits_path, 'test.df'), 'rb') as file_in:\n",
    "    test_df = pkl.load(file_in)[columns]"
   ]
  },
  {
   "cell_type": "code",
   "execution_count": 12,
   "metadata": {},
   "outputs": [],
   "source": [
    "# define the objective function that the fmin module can later optimize on\n",
    "def test_lsh(params):\n",
    "    print('testing lsh')\n",
    "    print(params)\n",
    "    lsh = CosineLSH(**params)\n",
    "    lsh.fit(train_df)\n",
    "    y_pred = lsh.predict(cv_df)\n",
    "    y = cv_df['rating'].values\n",
    "    mae = np.abs(y_pred - y).mean()\n",
    "    print('MAE:', mae)\n",
    "    #clear_output()\n",
    "    return mae"
   ]
  },
  {
   "cell_type": "code",
   "execution_count": 14,
   "metadata": {
    "scrolled": true
   },
   "outputs": [
    {
     "name": "stdout",
     "output_type": "stream",
     "text": [
      "testing lsh\n",
      "{'p': 3, 'q': 8}\n",
      "====================================================================================================\n",
      "-----------------------------------------------------------------------------------------------------MAE: 0.795200367033\n",
      "testing lsh\n",
      "{'p': 4, 'q': 21}\n",
      "====================================================================================================\n",
      "-----------------------------------------------------------------------------------------------------MAE: 0.792745189385\n",
      "testing lsh\n",
      "{'p': 3, 'q': 14}\n",
      "====================================================================================================\n",
      "-----------------------------------------------------------------------------------------------------MAE: 0.791846669992\n",
      "testing lsh\n",
      "{'p': 7, 'q': 9}\n",
      "====================================================================================================\n",
      "-----------------------------------------------------------------------------------------------------MAE: 0.804009874461\n",
      "testing lsh\n",
      "{'p': 5, 'q': 5}\n",
      "====================================================================================================\n",
      "-----------------------------------------------------------------------------------------------------MAE: 0.805209638216\n",
      "testing lsh\n",
      "{'p': 7, 'q': 27}\n",
      "====================================================================================================\n",
      "-----------------------------------------------------------------------------------------------------MAE: 0.802559016683\n",
      "testing lsh\n",
      "{'p': 6, 'q': 21}\n",
      "====================================================================================================\n",
      "-----------------------------------------------------------------------------------------------------MAE: 0.804072435813\n",
      "testing lsh\n",
      "{'p': 4, 'q': 17}\n",
      "====================================================================================================\n",
      "-----------------------------------------------------------------------------------------------------MAE: 0.793599572296\n",
      "testing lsh\n",
      "{'p': 4, 'q': 5}\n",
      "====================================================================================================\n",
      "-----------------------------------------------------------------------------------------------------MAE: 0.805381703894\n",
      "testing lsh\n",
      "{'p': 7, 'q': 13}\n",
      "====================================================================================================\n",
      "-----------------------------------------------------------------------------------------------------MAE: 0.802964115212\n",
      "testing lsh\n",
      "{'p': 6, 'q': 14}\n",
      "====================================================================================================\n",
      "-----------------------------------------------------------------------------------------------------MAE: 0.804154324784\n",
      "testing lsh\n",
      "{'p': 3, 'q': 17}\n",
      "====================================================================================================\n",
      "-----------------------------------------------------------------------------------------------------MAE: 0.791177397176\n",
      "testing lsh\n",
      "{'p': 4, 'q': 10}\n",
      "====================================================================================================\n",
      "-----------------------------------------------------------------------------------------------------MAE: 0.799061761776\n",
      "testing lsh\n",
      "{'p': 5, 'q': 28}\n",
      "====================================================================================================\n",
      "-----------------------------------------------------------------------------------------------------MAE: 0.79311869007\n",
      "testing lsh\n",
      "{'p': 6, 'q': 26}\n",
      "====================================================================================================\n",
      "-----------------------------------------------------------------------------------------------------MAE: 0.80152090452\n",
      "testing lsh\n",
      "{'p': 5, 'q': 13}\n",
      "====================================================================================================\n",
      "-----------------------------------------------------------------------------------------------------MAE: 0.800294629269\n",
      "testing lsh\n",
      "{'p': 6, 'q': 22}\n",
      "====================================================================================================\n",
      "-----------------------------------------------------------------------------------------------------MAE: 0.800438693105\n",
      "testing lsh\n",
      "{'p': 5, 'q': 23}\n",
      "====================================================================================================\n",
      "-----------------------------------------------------------------------------------------------------MAE: 0.795023299232\n",
      "testing lsh\n",
      "{'p': 4, 'q': 9}\n",
      "====================================================================================================\n",
      "-----------------------------------------------------------------------------------------------------MAE: 0.797990987309\n",
      "testing lsh\n",
      "{'p': 5, 'q': 26}\n",
      "====================================================================================================\n",
      "-----------------------------------------------------------------------------------------------------MAE: 0.794258199138\n",
      "testing lsh\n",
      "{'p': 3, 'q': 25}\n",
      "====================================================================================================\n",
      "-----------------------------------------------------------------------------------------------------MAE: 0.790749495123\n",
      "testing lsh\n",
      "{'p': 3, 'q': 25}\n",
      "====================================================================================================\n",
      "-----------------------------------------------------------------------------------------------------MAE: 0.790957784127\n",
      "testing lsh\n",
      "{'p': 3, 'q': 25}\n",
      "====================================================================================================\n",
      "-----------------------------------------------------------------------------------------------------MAE: 0.79095870562\n",
      "testing lsh\n",
      "{'p': 3, 'q': 25}\n",
      "====================================================================================================\n",
      "-----------------------------------------------------------------------------------------------------MAE: 0.790933618158\n",
      "testing lsh\n",
      "{'p': 3, 'q': 24}\n",
      "====================================================================================================\n",
      "-----------------------------------------------------------------------------------------------------MAE: 0.79126288109\n",
      "testing lsh\n",
      "{'p': 3, 'q': 12}\n",
      "====================================================================================================\n",
      "-----------------------------------------------------------------------------------------------------MAE: 0.791584349114\n",
      "testing lsh\n",
      "{'p': 3, 'q': 30}\n",
      "====================================================================================================\n",
      "-----------------------------------------------------------------------------------------------------MAE: 0.790938343212\n",
      "testing lsh\n",
      "{'p': 3, 'q': 18}\n",
      "====================================================================================================\n",
      "-----------------------------------------------------------------------------------------------------MAE: 0.791625952332\n",
      "testing lsh\n",
      "{'p': 3, 'q': 29}\n",
      "====================================================================================================\n",
      "-----------------------------------------------------------------------------------------------------MAE: 0.790883917727\n",
      "testing lsh\n",
      "{'p': 3, 'q': 29}\n",
      "====================================================================================================\n",
      "-----------------------------------------------------------------------------------------------------MAE: 0.791006406267\n",
      "testing lsh\n",
      "{'p': 3, 'q': 7}\n",
      "====================================================================================================\n",
      "-----------------------------------------------------------------------------------------------------MAE: 0.794950340235\n",
      "testing lsh\n",
      "{'p': 3, 'q': 19}\n",
      "====================================================================================================\n",
      "-----------------------------------------------------------------------------------------------------MAE: 0.791234900316\n",
      "testing lsh\n",
      "{'p': 7, 'q': 16}\n",
      "====================================================================================================\n"
     ]
    },
    {
     "name": "stdout",
     "output_type": "stream",
     "text": [
      "-----------------------------------------------------------------------------------------------------MAE: 0.807661709745\n",
      "testing lsh\n",
      "{'p': 3, 'q': 15}\n",
      "====================================================================================================\n",
      "-----------------------------------------------------------------------------------------------------MAE: 0.791739932326\n",
      "testing lsh\n",
      "{'p': 7, 'q': 11}\n",
      "====================================================================================================\n",
      "-----------------------------------------------------------------------------------------------------MAE: 0.805129773378\n",
      "testing lsh\n",
      "{'p': 3, 'q': 29}\n",
      "====================================================================================================\n",
      "-----------------------------------------------------------------------------------------------------MAE: 0.790962754593\n",
      "testing lsh\n",
      "{'p': 6, 'q': 20}\n",
      "====================================================================================================\n",
      "-----------------------------------------------------------------------------------------------------MAE: 0.801510232132\n",
      "testing lsh\n",
      "{'p': 3, 'q': 6}\n",
      "====================================================================================================\n",
      "-----------------------------------------------------------------------------------------------------MAE: 0.794879578437\n",
      "testing lsh\n",
      "{'p': 4, 'q': 8}\n",
      "====================================================================================================\n",
      "-----------------------------------------------------------------------------------------------------MAE: 0.801450235991\n",
      "testing lsh\n",
      "{'p': 7, 'q': 29}\n",
      "====================================================================================================\n",
      "-----------------------------------------------------------------------------------------------------MAE: 0.801836586608\n",
      "testing lsh\n",
      "{'p': 3, 'q': 27}\n",
      "====================================================================================================\n",
      "-----------------------------------------------------------------------------------------------------MAE: 0.791026529429\n",
      "testing lsh\n",
      "{'p': 4, 'q': 21}\n",
      "====================================================================================================\n",
      "-----------------------------------------------------------------------------------------------------MAE: 0.79204341839\n",
      "testing lsh\n",
      "{'p': 6, 'q': 14}\n",
      "====================================================================================================\n",
      "-----------------------------------------------------------------------------------------------------MAE: 0.80293542392\n",
      "testing lsh\n",
      "{'p': 5, 'q': 5}\n",
      "====================================================================================================\n",
      "-----------------------------------------------------------------------------------------------------MAE: 0.806083519073\n",
      "testing lsh\n",
      "{'p': 7, 'q': 10}\n",
      "====================================================================================================\n",
      "-----------------------------------------------------------------------------------------------------MAE: 0.805179316282\n",
      "testing lsh\n",
      "{'p': 3, 'q': 28}\n",
      "====================================================================================================\n",
      "-----------------------------------------------------------------------------------------------------MAE: 0.791046678871\n",
      "testing lsh\n",
      "{'p': 6, 'q': 22}\n",
      "====================================================================================================\n",
      "-----------------------------------------------------------------------------------------------------MAE: 0.799322818072\n",
      "testing lsh\n",
      "{'p': 4, 'q': 15}\n",
      "====================================================================================================\n",
      "-----------------------------------------------------------------------------------------------------MAE: 0.793850515467\n",
      "testing lsh\n",
      "{'p': 5, 'q': 23}\n",
      "====================================================================================================\n",
      "-----------------------------------------------------------------------------------------------------MAE: 0.795428607482\n",
      "testing lsh\n",
      "{'p': 3, 'q': 17}\n",
      "====================================================================================================\n",
      "-----------------------------------------------------------------------------------------------------MAE: 0.791508958158\n"
     ]
    }
   ],
   "source": [
    "use_pretrained = True\n",
    "\n",
    "if use_pretrained:\n",
    "    with open(os.path.join(data_path, 'trials_lsh'), 'rb') as file_in:\n",
    "        trials = pkl.load(file_in)\n",
    "    with open(os.path.join(data_path, 'best_lsh.dict'), 'rb') as file_in:\n",
    "        best = pkl.load(file_in)\n",
    "else:\n",
    "    trials = Trials()\n",
    "    space = {\n",
    "        'p': hp.choice('p', list(range(3,8))),\n",
    "        'q': hp.choice('q', list(range(5,31)))\n",
    "    }\n",
    "    \n",
    "    # Choose the Tree-structured Parzen Estimator (TPE) as the algorithm to optimize the objective function\n",
    "    best = fmin(algo = tpe.suggest,\n",
    "               fn = test_lsh,\n",
    "               trials = trials,\n",
    "               max_evals = 50, # max number of tests\n",
    "               space = space)\n",
    "    with open(os.path.join(data_path, 'trials_lsh'), 'wb') as file_out:\n",
    "        pkl.dump(trials, file_out)\n",
    "    with open(os.path.join(data_path, 'best_lsh.dict'), 'wb') as file_in:\n",
    "        pkl.dump(best, file_in)"
   ]
  },
  {
   "cell_type": "code",
   "execution_count": 15,
   "metadata": {
    "collapsed": true
   },
   "outputs": [],
   "source": [
    "def val_diagnostic(val_name, trials):\n",
    "    '''generates scatter plot and histogram of each parameter, as well as a plot on loss values (MAE)'''\n",
    "    \n",
    "    vals = np.array([trial['misc']['vals'][val_name] for trial in trials.trials])\n",
    "    \n",
    "    '''For hyperparameters that are specified with hp.choice, such as a range of integers,\n",
    "       Hyperopt returns the index of the tested hyperparameter value rather than the value itself.\n",
    "       Thus, for hyperparameter ranges that begin at a non-zero point,\n",
    "       it is necessary to shift the indices to the corresponding values they represent.\n",
    "    '''\n",
    "    if val_name == 'p':\n",
    "        vals += 3\n",
    "    elif val_name == 'q':\n",
    "        vals += 5\n",
    "        \n",
    "    ts = [trial['tid'] for trial in trials.trials]\n",
    "    results = [trial['result']['loss'] for trial in trials.trials]\n",
    "    \n",
    "    fig, axes = plt.subplots(1, 3, figsize = (16,4))\n",
    "    axes[0].scatter(ts, vals)\n",
    "    axes[0].set(xlabel='iteration', ylabel=val_name)\n",
    "    axes[1].hist(np.array(vals).squeeze())\n",
    "    axes[1].set(xlabel=val_name, ylabel='frequency')\n",
    "    axes[2].scatter(vals, results)\n",
    "    axes[2].set(xlabel=val_name, ylabel='loss')\n",
    "    plt.tight_layout()"
   ]
  },
  {
   "cell_type": "code",
   "execution_count": 16,
   "metadata": {},
   "outputs": [
    {
     "data": {
      "image/png": "[encoded data removed]",
      "text/plain": [
       "<matplotlib.figure.Figure at 0x1194ad278>"
      ]
     },
     "metadata": {},
     "output_type": "display_data"
    },
    {
     "data": {
      "image/png": "[encoded data removed]",
      "text/plain": [
       "<matplotlib.figure.Figure at 0x11b6fd9e8>"
      ]
     },
     "metadata": {},
     "output_type": "display_data"
    }
   ],
   "source": [
    "for val in trials.trials[0]['misc']['vals'].keys():\n",
    "    val_diagnostic(val, trials)"
   ]
  },
  {
   "cell_type": "markdown",
   "metadata": {},
   "source": [
    "# Generate predictions and evaluate"
   ]
  },
  {
   "cell_type": "code",
   "execution_count": 21,
   "metadata": {},
   "outputs": [
    {
     "data": {
      "text/plain": [
       "{'p': 3, 'q': 25}"
      ]
     },
     "execution_count": 21,
     "metadata": {},
     "output_type": "execute_result"
    }
   ],
   "source": [
    "best_opt = best.copy()\n",
    "best_opt['p'] += 3\n",
    "best_opt['q'] += 5\n",
    "best_opt"
   ]
  },
  {
   "cell_type": "code",
   "execution_count": 47,
   "metadata": {},
   "outputs": [],
   "source": [
    "use_pretrained = True\n",
    "\n",
    "if use_pretrained:\n",
    "    train_results_df = pd.read_csv(os.path.join(data_path, 'results_lsh_train.csv'))\n",
    "    cv_results_df = pd.read_csv(os.path.join(data_path, 'results_lsh_cv.csv'))\n",
    "    test_results_df = pd.read_csv(os.path.join(data_path, 'results_lsh_test.csv'))\n",
    "else:\n",
    "    lsh = CosineLSH(**best_opt)\n",
    "    lsh.fit(train_df)\n",
    "    \n",
    "    y_train_pred = lsh.predict(train_df)\n",
    "    train_results_df = train_df.copy()\n",
    "    train_results_df['prediction'] = y_train_pred\n",
    "    train_results_df.to_csv(os.path.join(data_path, 'results_lsh_train.csv'), header=True, index=False)\n",
    "    \n",
    "    y_cv_pred = lsh.predict(cv_df)\n",
    "    cv_results_df = cv_df.copy()\n",
    "    cv_results_df['prediction'] = y_cv_pred\n",
    "    cv_results_df.to_csv(os.path.join(data_path, 'results_lsh_cv.csv'), header=True, index=False)\n",
    "    \n",
    "    y_test_pred = lsh.predict(test_df)\n",
    "    test_results_df = test_df.copy()\n",
    "    test_results_df['prediction'] = y_test_pred\n",
    "    test_results_df.to_csv(os.path.join(data_path, 'results_lsh_test.csv'), header=True, index=False)"
   ]
  },
  {
   "cell_type": "code",
   "execution_count": 65,
   "metadata": {},
   "outputs": [
    {
     "name": "stdout",
     "output_type": "stream",
     "text": [
      "mean absolute error, training set: 0.7762850744621947\n",
      "mean absolute error, cross-validation set: 0.7908651138736459\n",
      "mean absolute error, test set: 0.7876861607162987\n"
     ]
    },
    {
     "data": {
      "text/plain": [
       "[<matplotlib.text.Text at 0x119f4a278>,\n",
       " <matplotlib.text.Text at 0x122f7b5c0>,\n",
       " <matplotlib.text.Text at 0x11fcd7b38>]"
      ]
     },
     "execution_count": 65,
     "metadata": {},
     "output_type": "execute_result"
    },
    {
     "data": {
      "image/png": "[encoded data removed]",
      "text/plain": [
       "<matplotlib.figure.Figure at 0x1230ca208>"
      ]
     },
     "metadata": {},
     "output_type": "display_data"
    }
   ],
   "source": [
    "mae_train = np.abs(train_results_df['rating'] - train_results_df['prediction']).mean()\n",
    "mae_cv = np.abs(cv_results_df['rating'] - cv_results_df['prediction']).mean()\n",
    "mae_test = np.abs(test_results_df['rating'] - test_results_df['prediction']).mean()\n",
    "\n",
    "print('mean absolute error, training set:', mae_train)\n",
    "print('mean absolute error, cross-validation set:', mae_cv)\n",
    "print('mean absolute error, test set:', mae_test)\n",
    "\n",
    "mae_list = [mae_train, mae_cv, mae_test]\n",
    "\n",
    "plt.figure(figsize = (10, 5))\n",
    "ax = plt.barh([0,1,2], mae_list, alpha = 0.7)\n",
    "plt.gca().set(yticks = [0,1,2], yticklabels = ['train', 'cross-validation', 'test'])\n",
    "plt.gca().set(title = 'Item-based collaborative filtering with Cosine LSH: mean absolute error by data set',\n",
    "              ylabel = 'Dataset', xlabel = 'Mean absolute error')"
   ]
  },
  {
   "cell_type": "code",
   "execution_count": 60,
   "metadata": {
    "collapsed": true
   },
   "outputs": [],
   "source": [
    "def calc_auc(data):\n",
    "    y = data['rating'] >= 4\n",
    "    y_pred = data['prediction'] / data['prediction'].max()\n",
    "    auc = roc_auc_score(y, y_pred)\n",
    "    return auc"
   ]
  },
  {
   "cell_type": "code",
   "execution_count": 70,
   "metadata": {},
   "outputs": [
    {
     "name": "stdout",
     "output_type": "stream",
     "text": [
      "ROC AUC, training set: 0.771787100131\n",
      "ROC AUC, cross-validation set: 0.762180865865\n",
      "ROC AUC, test set: 0.767860911949\n"
     ]
    },
    {
     "data": {
      "text/plain": [
       "[<matplotlib.text.Text at 0x122f1f7f0>,\n",
       " <matplotlib.text.Text at 0x1230c14a8>,\n",
       " <matplotlib.text.Text at 0x123430f28>]"
      ]
     },
     "execution_count": 70,
     "metadata": {},
     "output_type": "execute_result"
    },
    {
     "data": {
      "image/png": "[encoded data removed]",
      "text/plain": [
       "<matplotlib.figure.Figure at 0x123118630>"
      ]
     },
     "metadata": {},
     "output_type": "display_data"
    }
   ],
   "source": [
    "auc_train = calc_auc(train_results_df)\n",
    "auc_cv = calc_auc(cv_results_df)\n",
    "auc_test = calc_auc(test_results_df)\n",
    "\n",
    "print('ROC AUC, training set:', auc_train)\n",
    "print('ROC AUC, cross-validation set:', auc_cv)\n",
    "print('ROC AUC, test set:', auc_test)\n",
    "\n",
    "auc_list = [auc_train, auc_cv, auc_test]\n",
    "\n",
    "plt.figure(figsize = (10, 5))\n",
    "ax = plt.barh([0,1,2], auc_list, alpha = 0.7)\n",
    "plt.gca().set(yticks = [0,1,2], yticklabels = ['train', 'cross-validation', 'test'])\n",
    "plt.gca().set(title = 'Item-based collaborative filtering with Cosine LSH: ROC area under curve by data set',\n",
    "              ylabel = 'Dataset', xlabel = 'AUC')"
   ]
  },
  {
   "cell_type": "code",
   "execution_count": null,
   "metadata": {
    "collapsed": true
   },
   "outputs": [],
   "source": []
  }
 ],
 "metadata": {
  "kernelspec": {
   "display_name": "Python 3",
   "language": "python",
   "name": "python3"
  },
  "language_info": {
   "codemirror_mode": {
    "name": "ipython",
    "version": 3
   },
   "file_extension": ".py",
   "mimetype": "text/x-python",
   "name": "python",
   "nbconvert_exporter": "python",
   "pygments_lexer": "ipython3",
   "version": "3.6.1"
  }
 },
 "nbformat": 4,
 "nbformat_minor": 2
}
